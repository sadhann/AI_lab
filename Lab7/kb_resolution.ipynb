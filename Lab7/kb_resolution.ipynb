{
 "cells": [
  {
   "cell_type": "markdown",
   "metadata": {},
   "source": [
    "## Create a knowledgebase using prepositional logic and prove the given query using resolution"
   ]
  },
  {
   "cell_type": "code",
   "execution_count": 1,
   "metadata": {},
   "outputs": [],
   "source": [
    "def disjunctify(clauses):\n",
    "    disjuncts = []\n",
    "    for clause in clauses:\n",
    "        disjuncts.append(tuple(clause.split('v')))\n",
    "    return disjuncts"
   ]
  },
  {
   "cell_type": "code",
   "execution_count": 2,
   "metadata": {},
   "outputs": [],
   "source": [
    "def getResolvant(ci, cj, di, dj):\n",
    "    resolvant = list(ci) + list(cj)\n",
    "    resolvant.remove(di)\n",
    "    resolvant.remove(dj)\n",
    "    return tuple(resolvant)"
   ]
  },
  {
   "cell_type": "code",
   "execution_count": 3,
   "metadata": {},
   "outputs": [],
   "source": [
    "def resolve(ci, cj):\n",
    "    for di in ci:\n",
    "        for dj in cj:\n",
    "            if di == '~' + dj or dj == '~' + di:\n",
    "                return getResolvant(ci, cj, di, dj)"
   ]
  },
  {
   "cell_type": "code",
   "execution_count": 4,
   "metadata": {},
   "outputs": [],
   "source": [
    "def checkResolution(clauses, query):\n",
    "    clauses += [query if query.startswith('~') else '~' + query]\n",
    "    proposition = '^'.join(['(' + clause + ')' for clause in clauses])\n",
    "    print(f'Trying to prove {proposition} by contradiction....')\n",
    "    \n",
    "    clauses = disjunctify(clauses)\n",
    "    resolved = False\n",
    "    new = set()\n",
    "    \n",
    "    while not resolved:\n",
    "        n = len(clauses)\n",
    "        pairs = [(clauses[i], clauses[j]) for i in range(n) for j in range(i + 1, n)]\n",
    "        for (ci, cj) in pairs:\n",
    "            resolvant = resolve(ci, cj)\n",
    "            if not resolvant:\n",
    "                resolved = True\n",
    "                break\n",
    "            new = new.union(set(resolvents))\n",
    "        if new.issubset(set(clauses)):\n",
    "            break\n",
    "        for clause in new:\n",
    "            if clause not in clauses:\n",
    "                clauses.append(clause)\n",
    "        \n",
    "    if resolved:\n",
    "        print('Contradiction failed, Knowledge Base entails the query, proved by resolution')\n",
    "    else:\n",
    "        print(\"Contradiction succeeded, Knowledge Base doesn't entail the query, no empty set produced after resolution\")"
   ]
  },
  {
   "cell_type": "code",
   "execution_count": 5,
   "metadata": {},
   "outputs": [
    {
     "name": "stdout",
     "output_type": "stream",
     "text": [
      "Enter the clauses (separated by whitespace): A^B B^C\n",
      "Enter the query: C\n",
      "Trying to prove (A^B)^(B^C)^(~C) by contradiction....\n",
      "Contradiction failed, Knowledge Base entails the query, proved by resolution\n"
     ]
    }
   ],
   "source": [
    "# Test 1\n",
    "clauses = input('Enter the clauses (separated by whitespace): ').split()\n",
    "query = input('Enter the query: ')\n",
    "checkResolution(clauses, query)"
   ]
  },
  {
   "cell_type": "code",
   "execution_count": 8,
   "metadata": {},
   "outputs": [
    {
     "name": "stdout",
     "output_type": "stream",
     "text": [
      "Enter the clauses (separated by whitespace): A^B B^C C^D ~D\n",
      "Enter the query: B\n",
      "Trying to prove (A^B)^(B^C)^(C^D)^(~D)^(~B) by contradiction....\n",
      "Contradiction failed, Knowledge Base entails the query, proved by resolution\n"
     ]
    }
   ],
   "source": [
    "# Test 2\n",
    "clauses = input('Enter the clauses (separated by whitespace): ').split()\n",
    "query = input('Enter the query: ')\n",
    "checkResolution(clauses, query)"
   ]
  }
 ],
 "metadata": {
  "kernelspec": {
   "display_name": "Python 3",
   "language": "python",
   "name": "python3"
  },
  "language_info": {
   "codemirror_mode": {
    "name": "ipython",
    "version": 3
   },
   "file_extension": ".py",
   "mimetype": "text/x-python",
   "name": "python",
   "nbconvert_exporter": "python",
   "pygments_lexer": "ipython3",
   "version": "3.8.5"
  }
 },
 "nbformat": 4,
 "nbformat_minor": 2
}
