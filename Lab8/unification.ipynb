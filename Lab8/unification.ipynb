{
 "cells": [
  {
   "cell_type": "markdown",
   "metadata": {},
   "source": [
    "## Knowledgebase Unification"
   ]
  },
  {
   "cell_type": "code",
   "execution_count": 1,
   "metadata": {},
   "outputs": [],
   "source": [
    "import re\n",
    "\n",
    "def getAttributes(expr):\n",
    "    expr = expr.split(\"(\")[1:]\n",
    "    expr = \"(\".join(expr)\n",
    "    expr = expr[:-1]\n",
    "    expr = re.split(\"(?<!\\(.),(?!.\\))\", expr)\n",
    "    return expr"
   ]
  },
  {
   "cell_type": "code",
   "execution_count": 2,
   "metadata": {},
   "outputs": [],
   "source": [
    "def getInitialPredicate(expr):\n",
    "    return expr.split(\"(\")[0]\n",
    "\n",
    "def isConstant(char):\n",
    "    return char.isupper() and len(char) == 1\n",
    "\n",
    "def isVariable(char):\n",
    "    return char.islower() and len(char) == 1\n",
    "\n",
    "def replaceAttributes(expr, old, new):\n",
    "    attr = getAttributes(expr)\n",
    "    for index, val in enumerate(attr):\n",
    "        if val == old:\n",
    "            attr[index] = new\n",
    "    predicate = getInitialPredicate(expr)\n",
    "    return predicate + \"(\" + \",\".join(attr) + \")\"\n",
    "\n",
    "def apply(expr, subs):\n",
    "    for sub in subs:\n",
    "        new, old = sub  #substitution is a tuple of 2 values (new, old)\n",
    "        expr = replaceAttributes(expr, old, new)\n",
    "    return expr"
   ]
  },
  {
   "cell_type": "code",
   "execution_count": 3,
   "metadata": {},
   "outputs": [],
   "source": [
    "def checkOccurs(var, expr):\n",
    "    if expr.find(var) == -1:\n",
    "        return False\n",
    "    return True\n",
    "\n",
    "def getFirstPart(expr):\n",
    "    attr = getAttributes(expr)\n",
    "    return attr[0]\n",
    "\n",
    "def getRemainingPart(expr):\n",
    "    predicate = getInitialPredicate(expr)\n",
    "    attr = getAttributes(expr)\n",
    "    newExpr = predicate + \"(\" + \",\".join(attr[1:]) + \")\"\n",
    "    return newExpr"
   ]
  },
  {
   "cell_type": "code",
   "execution_count": 4,
   "metadata": {},
   "outputs": [],
   "source": [
    "def unify(exp1, exp2):\n",
    "    if exp1 == exp2:\n",
    "        return []\n",
    "\n",
    "    if isConstant(exp1) and isConstant(exp2):\n",
    "        if exp1 != exp2:\n",
    "            return False\n",
    "\n",
    "    if isConstant(exp1):\n",
    "        return [(exp1, exp2)]\n",
    "\n",
    "    if isConstant(exp2):\n",
    "        return [(exp2, exp1)]\n",
    "\n",
    "    if isVariable(exp1):\n",
    "        if checkOccurs(exp1, exp2):\n",
    "            return False\n",
    "        else:\n",
    "            return [(exp2, exp1)]\n",
    "\n",
    "    if isVariable(exp2):\n",
    "        if checkOccurs(exp2, exp1):\n",
    "            return False\n",
    "        else:\n",
    "            return [(exp1, exp2)]\n",
    "\n",
    "    if getInitialPredicate(exp1) != getInitialPredicate(exp2):\n",
    "        print(\"Predicates do not match. Cannot be unified\")\n",
    "        return False\n",
    "\n",
    "    attributeCount1 = len(getAttributes(exp1))\n",
    "    attributeCount2 = len(getAttributes(exp2))\n",
    "    if attributeCount1 != attributeCount2:\n",
    "        return False\n",
    "\n",
    "    head1 = getFirstPart(exp1)\n",
    "    head2 = getFirstPart(exp2)\n",
    "    initialSub = unify(head1, head2)\n",
    "    if not initialSub:\n",
    "        return False\n",
    "    if attributeCount1 == 1:\n",
    "        return initialSub\n",
    "\n",
    "    tail1 = getRemainingPart(exp1)\n",
    "    tail2 = getRemainingPart(exp2)\n",
    "\n",
    "    if initialSub != []:\n",
    "        tail1 = apply(tail1, initialSub)\n",
    "        tail2 = apply(tail2, initialSub)\n",
    "\n",
    "    remainingSub = unify(tail1, tail2)\n",
    "    if not remainingSub:\n",
    "        return False\n",
    "\n",
    "    initialSub.extend(remainingSub)\n",
    "    return initialSub"
   ]
  },
  {
   "cell_type": "code",
   "execution_count": 5,
   "metadata": {},
   "outputs": [
    {
     "name": "stdout",
     "output_type": "stream",
     "text": [
      "Expression1: knows(Leer,x)\n",
      "Expression2: knows(y,Jenk)\n",
      "Substitutions: \n",
      "[('Leer', 'y'), ('Jenk', 'x')]\n"
     ]
    }
   ],
   "source": [
    "#Test Case 1\n",
    "exp1 = input(\"Expression1: \")\n",
    "exp2 = input(\"Expression2: \")\n",
    "subs = unify(exp1, exp2)\n",
    "print(\"Substitutions: \")\n",
    "print(subs)"
   ]
  },
  {
   "cell_type": "code",
   "execution_count": 6,
   "metadata": {},
   "outputs": [
    {
     "name": "stdout",
     "output_type": "stream",
     "text": [
      "Expression1: studies(x,a(x))\n",
      "Expression2: studies(y,a(y))\n",
      "Substitutions:\n",
      "[('y', 'x'), ('y', 'x')]\n"
     ]
    }
   ],
   "source": [
    "#Test Case 2\n",
    "exp1 = input(\"Expression1: \")\n",
    "exp2 = input(\"Expression2: \")\n",
    "subs = unify(exp1, exp2)\n",
    "print(\"Substitutions:\")\n",
    "print(subs)"
   ]
  }
 ],
 "metadata": {
  "kernelspec": {
   "display_name": "Python 3",
   "language": "python",
   "name": "python3"
  },
  "language_info": {
   "codemirror_mode": {
    "name": "ipython",
    "version": 3
   },
   "file_extension": ".py",
   "mimetype": "text/x-python",
   "name": "python",
   "nbconvert_exporter": "python",
   "pygments_lexer": "ipython3",
   "version": "3.8.5"
  }
 },
 "nbformat": 4,
 "nbformat_minor": 2
}
