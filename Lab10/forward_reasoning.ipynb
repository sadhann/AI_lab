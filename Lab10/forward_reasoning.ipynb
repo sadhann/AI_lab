{
 "cells": [
  {
   "cell_type": "code",
   "execution_count": 1,
   "metadata": {},
   "outputs": [],
   "source": [
    "\n",
    "import re\n",
    "\n",
    "def isVariable(x):\n",
    "    return len(x) == 1 and x.islower() and x.isalpha()\n",
    "\n",
    "def getAttributes(string):\n",
    "    expr = '\\([^)]+\\)'\n",
    "    matches = re.findall(expr, string)\n",
    "    return matches\n",
    "\n",
    "def getPredicates(string):\n",
    "    expr = '([a-z~]+)\\([^&|]+\\)'\n",
    "    return re.findall(expr, string)"
   ]
  },
  {
   "cell_type": "code",
   "execution_count": 2,
   "metadata": {},
   "outputs": [],
   "source": [
    "class Fact:\n",
    "    def __init__(self, expression):\n",
    "        self.expression = expression\n",
    "        predicate, params = self.splitExpression(expression)\n",
    "        self.predicate = predicate\n",
    "        self.params = params\n",
    "        self.result = any(self.getConstants())\n",
    "        \n",
    "    def splitExpression(self, expression):\n",
    "        predicate = getPredicates(expression)[0]\n",
    "        params = getAttributes(expression)[0].strip('()').split(',')\n",
    "        return [predicate, params]\n",
    "    \n",
    "    def getResult(self):\n",
    "        return self.result\n",
    "    \n",
    "    def getConstants(self):\n",
    "        return [None if isVariable(c) else c for c in self.params]\n",
    "    \n",
    "    def getVariables(self):\n",
    "        return [v if isVariable(v) else None for v in self.params]\n",
    "    \n",
    "    def substitute(self, constants):\n",
    "        c = constants.copy()\n",
    "        f = f\"{self.predicate}({','.join([constants.pop(0) if isVariable(p) else p for p in self.params])})\"\n",
    "        return Fact(f)\n",
    "    \n",
    "class Implication:\n",
    "    def __init__(self, expression):\n",
    "        self.expression = expression\n",
    "        l = expression.split('=>')\n",
    "        self.lhs = [Fact(f) for f in l[0].split('&')]\n",
    "        self.rhs = Fact(l[1])\n",
    "        \n",
    "    def evaluate(self, facts):\n",
    "        constants = {}\n",
    "        new_lhs = []\n",
    "        for fact in facts:\n",
    "            for val in self.lhs:\n",
    "                if val.predicate == fact.predicate:\n",
    "                    for i, v in enumerate(val.getVariables()):\n",
    "                        if v:\n",
    "                            constants[v] = fact.getConstants()[i]\n",
    "                    new_lhs.append(fact)\n",
    "        predicate, attributes = getPredicates(self.rhs.expression)[0], str(getAttributes(self.rhs.expression)[0])\n",
    "        for key in constants:\n",
    "            if constants[key]:\n",
    "                attributes = attributes.replace(key, constants[key])\n",
    "        expr = f'{predicate}{attributes}'\n",
    "        return Fact(expr) if len(new_lhs) and all([f.getResult() for f in new_lhs]) else None\n",
    "\n",
    "class KB:\n",
    "    def __init__(self):\n",
    "        self.facts = set()\n",
    "        self.implications = set()\n",
    "            \n",
    "    def tell(self, e):\n",
    "        if '=>' in e:\n",
    "            self.implications.add(Implication(e))\n",
    "        else:\n",
    "            self.facts.add(Fact(e))\n",
    "        for i in self.implications:\n",
    "            res = i.evaluate(self.facts)\n",
    "            if res:\n",
    "                self.facts.add(res)\n",
    "\n",
    "    def query(self, e):\n",
    "        facts = set([f.expression for f in self.facts])\n",
    "        i = 1\n",
    "        print(f'Querying {e}:')\n",
    "        for f in facts:\n",
    "            if Fact(f).predicate == Fact(e).predicate:\n",
    "                print(f'\\t{i}. {f}')\n",
    "                i += 1\n",
    "    \n",
    "    def display(self):\n",
    "        print(\"All facts: \")\n",
    "        for i, f in enumerate(set([f.expression for f in self.facts])):\n",
    "            print(f'\\t{i+1}. {f}')"
   ]
  },
  {
   "cell_type": "code",
   "execution_count": 5,
   "metadata": {},
   "outputs": [],
   "source": [
    "def main():\n",
    "    kb = KB()\n",
    "    n = int(input(\"Enter number of statements in Knowledge Base: \"))\n",
    "    \n",
    "    for _ in range(n):\n",
    "        kb.tell(input())\n",
    "        \n",
    "    print(\"Enter Query:\")\n",
    "    query = input()\n",
    "    kb.query(query)\n",
    "    \n",
    "    kb.display()"
   ]
  },
  {
   "cell_type": "code",
   "execution_count": 15,
   "metadata": {},
   "outputs": [
    {
     "name": "stdout",
     "output_type": "stream",
     "text": [
      "Enter number of statements in Knowledge Base: 4\n",
      "cat(x)&hungry(x)=>stare(x)\n",
      "cat(Chop)\n",
      "hungry(Chop)\n",
      "cat(Lula)\n",
      "Enter Query:\n",
      "stare(x)\n",
      "Querying stare(x):\n",
      "\t1. stare(Chop)\n",
      "All facts: \n",
      "\t1. cat(Chop)\n",
      "\t2. stare(Chop)\n",
      "\t3. cat(Lula)\n",
      "\t4. hungry(Chop)\n"
     ]
    }
   ],
   "source": [
    "#Test1\n",
    "main()"
   ]
  },
  {
   "cell_type": "code",
   "execution_count": 16,
   "metadata": {},
   "outputs": [
    {
     "name": "stdout",
     "output_type": "stream",
     "text": [
      "Enter number of statements in Knowledge Base: 8\n",
      "missile(x)=>weapon(x)\n",
      "missile(M1)\n",
      "enemy(x,America)=>hostile(x)\n",
      "american(West)\n",
      "enemy(Nono,America)\n",
      "owns(Nono,M1)\n",
      "missile(x)&owns(Nono,x)=>sells(West,x,Nono)\n",
      "american(x)&weapon(y)&sells(x,y,z)&hostile(z)=>criminal(x)\n",
      "Enter Query:\n",
      "criminal(x)\n",
      "Querying criminal(x):\n",
      "\t1. criminal(West)\n",
      "All facts: \n",
      "\t1. hostile(Nono)\n",
      "\t2. enemy(Nono,America)\n",
      "\t3. american(West)\n",
      "\t4. sells(West,M1,Nono)\n",
      "\t5. weapon(M1)\n",
      "\t6. criminal(West)\n",
      "\t7. owns(Nono,M1)\n",
      "\t8. missile(M1)\n"
     ]
    }
   ],
   "source": [
    "#Test1\n",
    "main()"
   ]
  }
 ],
 "metadata": {
  "kernelspec": {
   "display_name": "Python 3",
   "language": "python",
   "name": "python3"
  },
  "language_info": {
   "codemirror_mode": {
    "name": "ipython",
    "version": 3
   },
   "file_extension": ".py",
   "mimetype": "text/x-python",
   "name": "python",
   "nbconvert_exporter": "python",
   "pygments_lexer": "ipython3",
   "version": "3.8.5"
  }
 },
 "nbformat": 4,
 "nbformat_minor": 2
}
