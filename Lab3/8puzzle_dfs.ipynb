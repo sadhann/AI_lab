{
 "cells": [
  {
   "cell_type": "code",
   "execution_count": 3,
   "metadata": {},
   "outputs": [],
   "source": [
    "# 8 Puzzle using DFS (calls in IDFS)\n",
    "def gen(state, m, b): # m(move) is direction to slide, b(blank) is index of empty spot\n",
    "    temp = state.copy()\n",
    "    if m == 'u':\n",
    "        temp[b-3], temp[b] = temp[b], temp[b-3]\n",
    "    if m == 'd':\n",
    "        temp[b+3], temp[b] = temp[b], temp[b+3]\n",
    "    if m == 'r':\n",
    "        temp[b+1], temp[b] = temp[b], temp[b+1]\n",
    "    if m == 'l':\n",
    "        temp[b-1], temp[b] = temp[b], temp[b-1]\n",
    "\n",
    "    # return new state with tested move to later check if \"src == target\"\n",
    "    return temp"
   ]
  },
  {
   "cell_type": "code",
   "execution_count": 2,
   "metadata": {},
   "outputs": [],
   "source": [
    "# Returns the possible moves and give boundaries\n",
    "def possible_moves(state,visited_states): \n",
    "    # Find index of empty spots and assign it to b\n",
    "    b = state.index(-1)  \n",
    "    d = []\n",
    "    if 9 > b - 3 >= 0: \n",
    "        d += 'u'\n",
    "    if 9 > b + 3 >= 0:\n",
    "        d += 'd'\n",
    "    if b not in [2,5,8]: \n",
    "        d += 'r'\n",
    "    if b not in [0,3,6]: \n",
    "        d += 'l'\n",
    "    pos_moves = []\n",
    "    for move in d:\n",
    "        pos_moves.append(gen(state,move,b))\n",
    "        \n",
    "    # return all possible moves only if the move not in visited_states\n",
    "    return [move for move in pos_moves if move not in visited_states]"
   ]
  },
  {
   "cell_type": "code",
   "execution_count": 5,
   "metadata": {},
   "outputs": [],
   "source": [
    "def dfs(src,target,limit,visited_states):\n",
    "    # If target found\n",
    "    if src == target:\n",
    "        return True\n",
    "\n",
    "    # If limit exceeded\n",
    "    if limit <= 0:\n",
    "        return False\n",
    "    \n",
    "    visited_states.append(src)\n",
    "    moves = possible_moves(src,visited_states)\n",
    "\n",
    "    # Return True if target found in given depth limit\n",
    "    for move in moves:\n",
    "        if dfs(move, target, limit-1, visited_states):\n",
    "            return True\n",
    "    return False"
   ]
  },
  {
   "cell_type": "code",
   "execution_count": 8,
   "metadata": {},
   "outputs": [],
   "source": [
    "# Iteraative DFS main call point\n",
    "def iddfs(src,target,depth):\n",
    "    for i in range(depth):\n",
    "        visited_states = []\n",
    "        if dfs(src,target,i+1,visited_states):\n",
    "            return True\n",
    "    return False"
   ]
  },
  {
   "cell_type": "code",
   "execution_count": 9,
   "metadata": {},
   "outputs": [
    {
     "data": {
      "text/plain": [
       "False"
      ]
     },
     "execution_count": 9,
     "metadata": {},
     "output_type": "execute_result"
    }
   ],
   "source": [
    "#Test 1\n",
    "src = [1, 2, 3, -1, 4, 5, 6, 7, 8]\n",
    "target = [1, 2, 3, 4, 5, -1, 6, 7, 8]         \n",
    "\n",
    "depth = 1\n",
    "iddfs(src, target, depth)"
   ]
  },
  {
   "cell_type": "code",
   "execution_count": 11,
   "metadata": {},
   "outputs": [
    {
     "data": {
      "text/plain": [
       "True"
      ]
     },
     "execution_count": 11,
     "metadata": {},
     "output_type": "execute_result"
    }
   ],
   "source": [
    "\n",
    "# Test 2\n",
    "src = [1, 2, 3, -1, 4, 5, 6, 7, 8] \n",
    "target=[1, 2, 3, 6, 4, 5, -1, 7, 8]\n",
    "\n",
    "depth = 1\n",
    "iddfs(src, target, depth)"
   ]
  },
  {
   "cell_type": "code",
   "execution_count": 12,
   "metadata": {},
   "outputs": [
    {
     "data": {
      "text/plain": [
       "True"
      ]
     },
     "execution_count": 12,
     "metadata": {},
     "output_type": "execute_result"
    }
   ],
   "source": [
    "\n",
    "# Test 3\n",
    "src = [3, 5, 2, 8, 7, 6, 4, 1, -1]\n",
    "target = [-1, 3, 7, 8, 1, 5, 4, 6, 2]\n",
    "\n",
    "depth = 26\n",
    "iddfs(src, target, depth)"
   ]
  }
 ],
 "metadata": {
  "kernelspec": {
   "display_name": "Python 3",
   "language": "python",
   "name": "python3"
  },
  "language_info": {
   "codemirror_mode": {
    "name": "ipython",
    "version": 3
   },
   "file_extension": ".py",
   "mimetype": "text/x-python",
   "name": "python",
   "nbconvert_exporter": "python",
   "pygments_lexer": "ipython3",
   "version": "3.8.5"
  }
 },
 "nbformat": 4,
 "nbformat_minor": 2
}
