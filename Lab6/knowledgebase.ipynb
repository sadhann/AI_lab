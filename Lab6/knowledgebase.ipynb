{
 "cells": [
  {
   "cell_type": "markdown",
   "metadata": {},
   "source": [
    "### Create a knowledgebase using propositional logic and show that the given query entails the knowledge base or not"
   ]
  },
  {
   "cell_type": "code",
   "execution_count": 3,
   "metadata": {},
   "outputs": [],
   "source": [
    "combinations = [(True, True, True),\n",
    "                (True, True, False),\n",
    "                (True, False, True),\n",
    "                (True, False, False),\n",
    "                (False, True, True),\n",
    "                (False, True, False),\n",
    "                (False, False,True),\n",
    "                (False, False, False)]\n",
    "variable = {'p':0, 'q':1, 'r':2}\n",
    "priority = {'v':1, '^':2, '~':3}\n",
    "\n",
    "# set of rules\n",
    "kb = '' # should be a cnf\n",
    "q =  '' # should be a cnf"
   ]
  },
  {
   "cell_type": "code",
   "execution_count": 2,
   "metadata": {},
   "outputs": [],
   "source": [
    "def isOperand(c):\n",
    "  return c.isalpha() and c != 'v'\n",
    "\n",
    "def isLeftParenthesis(c):\n",
    "  return c == \"(\"\n",
    "\n",
    "def isRightParenthesis(c):\n",
    "  return c == \")\"\n",
    "\n",
    "def isEmpty(stack):\n",
    "  return len(stack) == 0\n",
    "\n",
    "def peek(stack):\n",
    "  return stack[-1]\n",
    "\n",
    "def hasLessOrEqualPriority(c1, c2):\n",
    "  try: return priority[c1] <= priority[c2]\n",
    "  except KeyError: return False"
   ]
  },
  {
   "cell_type": "code",
   "execution_count": 4,
   "metadata": {},
   "outputs": [],
   "source": [
    "def toPostfix(infix):\n",
    "  stack = []\n",
    "  postfix = ''\n",
    "  for c in infix:\n",
    "    if isOperand(c):\n",
    "      postfix += c\n",
    "    else:\n",
    "      if isLeftParenthesis(c):\n",
    "        stack.append(c)\n",
    "      elif isRightParenthesis(c):\n",
    "        operator = stack.pop()\n",
    "        while not isLeftParenthesis(operator):\n",
    "          postfix += operator\n",
    "          operator = stack.pop()\n",
    "      else:\n",
    "        while (not isEmpty(stack)) and hasLessOrEqualPriority(c, peek(stack)):\n",
    "          postfix += stack.pop()\n",
    "        stack.append(c)\n",
    "  while (not isEmpty(stack)):\n",
    "    postfix += stack.pop()\n",
    "  return postfix"
   ]
  },
  {
   "cell_type": "code",
   "execution_count": 5,
   "metadata": {},
   "outputs": [],
   "source": [
    "def _eval(i, val1, val2):\n",
    "    if i == '^': return val2 and val1\n",
    "    return val2 or val1\n",
    "    \n",
    "def evaluatePostfix(exp, comb):\n",
    "  stack = []\n",
    "  for i in exp:\n",
    "    if isOperand(i):\n",
    "      stack.append(comb[variable[i]])\n",
    "    elif i == '~':\n",
    "      val1 = stack.pop()\n",
    "      stack.append(not val1)\n",
    "    else:\n",
    "      val1 = stack.pop()\n",
    "      val2 = stack.pop()\n",
    "      stack.append(_eval(i, val2, val1))\n",
    "  return stack.pop()"
   ]
  },
  {
   "cell_type": "code",
   "execution_count": 6,
   "metadata": {},
   "outputs": [],
   "source": [
    "def input_rules():\n",
    "  global kb, q\n",
    "  kb = input(\"Enter Rule :\")\n",
    "  q = input(\"Enter Query : \")\n",
    "\n",
    "def entailment():\n",
    "  global kb, q\n",
    "  print('*' * 10 + \"Truth Table Reference\" + \"*\" * 10)\n",
    "  print(\"kb\", \"alpha\")\n",
    "  print(\"*\" * 10)\n",
    "  for comb in combinations:\n",
    "    s = evaluatePostfix(toPostfix(kb), comb)\n",
    "    f = evaluatePostfix(toPostfix(q), comb)\n",
    "    print(s, f)\n",
    "    print(\"-\" * 10)\n",
    "    if s and not f:\n",
    "      return False\n",
    "  return True"
   ]
  },
  {
   "cell_type": "code",
   "execution_count": 7,
   "metadata": {},
   "outputs": [
    {
     "output_type": "stream",
     "name": "stdout",
     "text": [
      "**********Truth Table Reference**********\nkb alpha\n**********\nTrue True\n----------\nFalse False\n----------\nTrue True\n----------\nFalse False\n----------\nTrue True\n----------\nFalse False\n----------\nFalse True\n----------\nFalse False\n----------\nThe Knowledge Base Entails Query\n"
     ]
    }
   ],
   "source": [
    "input_rules()\n",
    "ans = entailment()\n",
    "if ans: print(\"The Knowledge Base Entails Query\")\n",
    "else: print(\"The Knowledge Base Doesn't Entail Query\")"
   ]
  },
  {
   "cell_type": "code",
   "execution_count": 7,
   "metadata": {},
   "outputs": [
    {
     "name": "stdout",
     "output_type": "stream",
     "text": [
      "Enter Rule :r^(pvq)^(~qvp)\n",
      "Enter Query : r\n",
      "**********Truth Table Reference**********\n",
      "kb alpha\n",
      "**********\n",
      "True True\n",
      "----------\n",
      "False False\n",
      "----------\n",
      "True True\n",
      "----------\n",
      "False False\n",
      "----------\n",
      "False True\n",
      "----------\n",
      "False False\n",
      "----------\n",
      "False True\n",
      "----------\n",
      "False False\n",
      "----------\n",
      "The Knowledge Base Entails Query\n"
     ]
    }
   ],
   "source": [
    "input_rules()\n",
    "ans = entailment()\n",
    "if ans: print(\"The Knowledge Base Entails Query\")\n",
    "else: print(\"The Knowledge Base Doesn't Entail Query\")"
   ]
  }
 ],
 "metadata": {
  "kernelspec": {
   "display_name": "Python 3",
   "language": "python",
   "name": "python3"
  },
  "language_info": {
   "codemirror_mode": {
    "name": "ipython",
    "version": 3
   },
   "file_extension": ".py",
   "mimetype": "text/x-python",
   "name": "python",
   "nbconvert_exporter": "python",
   "pygments_lexer": "ipython3",
   "version": "3.8.5-final"
  }
 },
 "nbformat": 4,
 "nbformat_minor": 2
}